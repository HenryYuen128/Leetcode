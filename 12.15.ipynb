{
 "cells": [
  {
   "cell_type": "code",
   "execution_count": 11,
   "metadata": {},
   "outputs": [],
   "source": [
    "'''\n",
    "平面上有 n 个点，点的位置用整数坐标表示 points[i] = [xi, yi]。请你计算访问所有这些点需要的最小时间（以秒为单位）。\n",
    "\n",
    "你可以按照下面的规则在平面上移动：\n",
    "\n",
    "每一秒沿水平或者竖直方向移动一个单位长度，或者跨过对角线（可以看作在一秒内向水平和竖直方向各移动一个单位长度）。\n",
    "必须按照数组中出现的顺序来访问这些点。\n",
    "'''\n",
    "def minTimeToVisitAllPoints(points):\n",
    "    step = 0\n",
    "    for ii in range(0,len(points)-1):\n",
    "        print(points[ii], points[ii+1])\n",
    "        step += ((abs(points[ii][0]-points[ii+1][0]))+(abs(points[ii][1]-points[ii+1][1])))\n",
    "        print(step)\n",
    "    return step"
   ]
  },
  {
   "cell_type": "code",
   "execution_count": 12,
   "metadata": {},
   "outputs": [
    {
     "name": "stdout",
     "output_type": "stream",
     "text": [
      "[1, 1] [3, 4]\n",
      "5\n",
      "[3, 4] [-1, 0]\n",
      "13\n"
     ]
    },
    {
     "data": {
      "text/plain": [
       "13"
      ]
     },
     "execution_count": 12,
     "metadata": {},
     "output_type": "execute_result"
    }
   ],
   "source": [
    "minTimeToVisitAllPoints([[1,1],[3,4],[-1,0]])"
   ]
  },
  {
   "cell_type": "code",
   "execution_count": null,
   "metadata": {},
   "outputs": [],
   "source": []
  },
  {
   "cell_type": "code",
   "execution_count": 21,
   "metadata": {},
   "outputs": [],
   "source": [
    "'''\n",
    "在一个「平衡字符串」中，'L' 和 'R' 字符的数量是相同的。\n",
    "\n",
    "给出一个平衡字符串 s，请你将它分割成尽可能多的平衡字符串。\n",
    "\n",
    "返回可以通过分割得到的平衡字符串的最大数量。\n",
    "\n",
    " \n",
    "\n",
    "示例 1：\n",
    "\n",
    "输入：s = \"RLRRLLRLRL\"\n",
    "输出：4\n",
    "解释：s 可以分割为 \"RL\", \"RRLL\", \"RL\", \"RL\", 每个子字符串中都包含相同数量的 'L' 和 'R'。\n",
    "'''\n",
    "\n",
    "def balancedStringSplit(s: str) -> int:\n",
    "    countL = 0\n",
    "    countR = 0\n",
    "    res = 0\n",
    "    for ii in s:\n",
    "        if ii == 'R':\n",
    "            countR += 1\n",
    "        elif ii == 'L':\n",
    "            countL += 1\n",
    "        if countL == countR and countL != 0 and countR != 0:\n",
    "            res += 1\n",
    "            countR = 0\n",
    "            countL = 0\n",
    "    return res"
   ]
  },
  {
   "cell_type": "code",
   "execution_count": 22,
   "metadata": {},
   "outputs": [
    {
     "data": {
      "text/plain": [
       "4"
      ]
     },
     "execution_count": 22,
     "metadata": {},
     "output_type": "execute_result"
    }
   ],
   "source": [
    "balancedStringSplit(\"RLRRLLRLRL\")"
   ]
  }
 ],
 "metadata": {
  "kernelspec": {
   "display_name": "Python 3",
   "language": "python",
   "name": "python3"
  },
  "language_info": {
   "codemirror_mode": {
    "name": "ipython",
    "version": 3
   },
   "file_extension": ".py",
   "mimetype": "text/x-python",
   "name": "python",
   "nbconvert_exporter": "python",
   "pygments_lexer": "ipython3",
   "version": "3.7.3"
  }
 },
 "nbformat": 4,
 "nbformat_minor": 2
}
