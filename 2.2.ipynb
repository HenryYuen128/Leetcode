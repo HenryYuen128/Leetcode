{
 "cells": [
  {
   "cell_type": "markdown",
   "metadata": {},
   "source": [
    "给定一个非负整数数组 A， A 中一半整数是奇数，一半整数是偶数。\n",
    "\n",
    "对数组进行排序，以便当 A[i] 为奇数时，i 也是奇数；当 A[i] 为偶数时， i 也是偶数。\n",
    "\n",
    "你可以返回任何满足上述条件的数组作为答案。\n",
    "\n",
    "来源：力扣（LeetCode）\n",
    "链接：https://leetcode-cn.com/problems/sort-array-by-parity-ii\n",
    "著作权归领扣网络所有。商业转载请联系官方授权，非商业转载请注明出处。"
   ]
  },
  {
   "cell_type": "code",
   "execution_count": null,
   "metadata": {},
   "outputs": [],
   "source": [
    "class Solution:\n",
    "    def sortArrayByParityII(self, A: List[int]) -> List[int]:\n",
    "        import numpy as np\n",
    "        newList = np.zeros(len(A))\n",
    "        count1 = 0\n",
    "        count2 = 1\n",
    "        for ii, xx in enumerate(A):\n",
    "            if xx%2 == 0:\n",
    "                newList[count1] = int(xx)\n",
    "                count1 += 2\n",
    "            else:\n",
    "                newList[count2] = int(xx)\n",
    "                count2 += 2\n",
    "        return newList"
   ]
  },
  {
   "cell_type": "markdown",
   "metadata": {},
   "source": [
    "给定两个字符串 s 和 t，它们只包含小写字母。\n",
    "\n",
    "字符串 t 由字符串 s 随机重排，然后在随机位置添加一个字母。\n",
    "\n",
    "请找出在 t 中被添加的字母。"
   ]
  },
  {
   "cell_type": "code",
   "execution_count": 29,
   "metadata": {},
   "outputs": [],
   "source": [
    "def findTheDifference(s: str, t: str) -> str:\n",
    "    oList = list(s)\n",
    "    nList = list(t)\n",
    "    from collections import Counter\n",
    "    dict_S = dict(Counter(oList))\n",
    "    dict_T = dict(Counter(nList))\n",
    "    for kk, vv in dict_T.items():\n",
    "        if kk in dict_S.keys():\n",
    "            if dict_S[kk] != vv:\n",
    "                return kk\n",
    "        else:\n",
    "            return kk"
   ]
  },
  {
   "cell_type": "code",
   "execution_count": 30,
   "metadata": {},
   "outputs": [
    {
     "data": {
      "text/plain": [
       "'e'"
      ]
     },
     "execution_count": 30,
     "metadata": {},
     "output_type": "execute_result"
    }
   ],
   "source": [
    "# jie"
   ]
  }
 ],
 "metadata": {
  "kernelspec": {
   "display_name": "Python 3",
   "language": "python",
   "name": "python3"
  },
  "language_info": {
   "codemirror_mode": {
    "name": "ipython",
    "version": 3
   },
   "file_extension": ".py",
   "mimetype": "text/x-python",
   "name": "python",
   "nbconvert_exporter": "python",
   "pygments_lexer": "ipython3",
   "version": "3.7.3"
  }
 },
 "nbformat": 4,
 "nbformat_minor": 2
}
