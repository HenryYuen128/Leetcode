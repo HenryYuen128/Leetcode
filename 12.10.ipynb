{
 "cells": [
  {
   "cell_type": "code",
   "execution_count": 3,
   "metadata": {},
   "outputs": [],
   "source": [
    "'''\n",
    "给你一个整数 n，请你帮忙计算并返回该整数「各位数字之积」与「各位数字之和」的差。\n",
    "'''\n",
    "def subtractProductAndSum1(n):\n",
    "    add, mul = 0, 1\n",
    "    while n > 0:\n",
    "        digit = n % 10\n",
    "        n //= 10\n",
    "        add += digit\n",
    "        mul *= digit\n",
    "    print(mul-add)\n",
    "    return mul - add\n",
    "\n",
    "# 转换成字符串再计算\n",
    "def subtractProductAndSum2(n):\n",
    "    strN = str(n)\n",
    "    length = len(strN)\n",
    "    mult_ = 1\n",
    "    sum_ = 0\n",
    "    for ii, xx in enumerate(strN):\n",
    "        mult_ = mult_* int(xx)\n",
    "        sum_ = sum_ + int(xx)\n",
    "\n",
    "    return mult_-sum_"
   ]
  },
  {
   "cell_type": "code",
   "execution_count": null,
   "metadata": {},
   "outputs": [],
   "source": []
  },
  {
   "cell_type": "code",
   "execution_count": 5,
   "metadata": {},
   "outputs": [],
   "source": [
    "import collections\n",
    "def majorityElement(nums):\n",
    "    print(len(nums))\n",
    "    counts = collections.Counter(nums)\n",
    "    print(counts.keys())\n",
    "    print(counts.get)\n",
    "    print(max(counts.keys(),key=counts.get))\n",
    "#     for ii in nums:"
   ]
  },
  {
   "cell_type": "code",
   "execution_count": 6,
   "metadata": {},
   "outputs": [
    {
     "name": "stdout",
     "output_type": "stream",
     "text": [
      "4\n",
      "dict_keys([1, 2, 3])\n",
      "<built-in method get of Counter object at 0x0000029C514CFD58>\n",
      "3\n"
     ]
    }
   ],
   "source": [
    "majorityElement([1,2,3,3])"
   ]
  },
  {
   "cell_type": "code",
   "execution_count": null,
   "metadata": {},
   "outputs": [],
   "source": []
  },
  {
   "cell_type": "code",
   "execution_count": null,
   "metadata": {},
   "outputs": [],
   "source": []
  }
 ],
 "metadata": {
  "kernelspec": {
   "display_name": "Python 3",
   "language": "python",
   "name": "python3"
  },
  "language_info": {
   "codemirror_mode": {
    "name": "ipython",
    "version": 3
   },
   "file_extension": ".py",
   "mimetype": "text/x-python",
   "name": "python",
   "nbconvert_exporter": "python",
   "pygments_lexer": "ipython3",
   "version": "3.7.3"
  }
 },
 "nbformat": 4,
 "nbformat_minor": 2
}
