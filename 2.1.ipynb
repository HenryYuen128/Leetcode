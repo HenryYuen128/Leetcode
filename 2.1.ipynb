{
 "cells": [
  {
   "cell_type": "markdown",
   "metadata": {},
   "source": [
    "给定一个整数数组 nums 和一个目标值 target，请你在该数组中找出和为目标值的那 两个 整数，并返回他们的数组下标。\n",
    "\n",
    "你可以假设每种输入只会对应一个答案。但是，你不能重复利用这个数组中同样的元素。\n",
    "\n",
    "示例:\n",
    "\n",
    "给定 nums = [2, 7, 11, 15], target = 9\n",
    "\n",
    "因为 nums[0] + nums[1] = 2 + 7 = 9\n",
    "所以返回 [0, 1]\n",
    "\n",
    "来源：力扣（LeetCode）\n",
    "链接：https://leetcode-cn.com/problems/two-sum\n",
    "著作权归领扣网络所有。商业转载请联系官方授权，非商业转载请注明出处。"
   ]
  },
  {
   "cell_type": "code",
   "execution_count": null,
   "metadata": {},
   "outputs": [],
   "source": [
    "class Solution:\n",
    "    def twoSum(self, nums: List[int], target: int) -> List[int]:\n",
    "        for ii,xx in enumerate(nums):\n",
    "            temp_nums = nums[:]\n",
    "            error = target - xx # 求得另一个数的值\n",
    "            temp_nums.pop(ii) # 列表删除当前元素\n",
    "            if error in temp_nums:\n",
    "                print(nums)\n",
    "                errorIndex = nums.index(error)\n",
    "                if error == xx: # 若两数相同，求各自对应在nums中的index值\n",
    "                    indexList = [i for i,x in enumerate(nums) if x == xx]\n",
    "                    errorIndex += abs(indexList[0]-indexList[1]) # 求第二个数的index\n",
    "                print(ii,errorIndex)\n",
    "                a = list()\n",
    "                a.append(ii)\n",
    "                a.append(errorIndex)\n",
    "                return a"
   ]
  }
 ],
 "metadata": {
  "kernelspec": {
   "display_name": "Python 3",
   "language": "python",
   "name": "python3"
  },
  "language_info": {
   "codemirror_mode": {
    "name": "ipython",
    "version": 3
   },
   "file_extension": ".py",
   "mimetype": "text/x-python",
   "name": "python",
   "nbconvert_exporter": "python",
   "pygments_lexer": "ipython3",
   "version": "3.7.3"
  }
 },
 "nbformat": 4,
 "nbformat_minor": 2
}
