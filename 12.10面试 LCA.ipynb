{
 "cells": [
  {
   "cell_type": "code",
   "execution_count": null,
   "metadata": {},
   "outputs": [],
   "source": [
    "# 求二叉树中的LCA (lowest common ancestor)\n",
    "'''\n",
    "基本思路：\n",
    "1. list中，假设父节点的下标为n,则左子节点下标为2n+1,右子节点下标为2n+2\n",
    "2. 指定两个节点，先找出两个节点在列表中的下标，选择下标较大（即节点位置靠后）的一个一直向前寻找，直到下标小于另一节点\n",
    "3. 根据下标关系判断是否为父子节点关系，若否，则选择另一个节点，重复第二步，直到满足父子节点下标关系\n",
    "'''\n",
    "def getLCA(root,p,q):\n",
    "    node1 = -1;\n",
    "    node2 = -1;\n",
    "    for ii, xx in enumerate(root):\n",
    "        if p == xx:\n",
    "            node1 = ii\n",
    "        elif q == xx:\n",
    "            node2 = ii\n",
    "    \n",
    "    later = max(node1, node2) # \n",
    "    front = min(node1, node2)\n",
    "    print('later:',later)\n",
    "    print('front:',front)\n",
    "    TEMP = -1\n",
    "    stop = 0\n",
    "    while stop == 0:\n",
    "        print('later:',later,'node:',root[later])\n",
    "        later = int((later - 1)/2)\n",
    "        if isinstance(later, int)==False:\n",
    "            later = (later - 1)//2\n",
    "        \n",
    "        if later < front:\n",
    "            print('LL:',later)\n",
    "            temp = front\n",
    "            if (front == 2*later+1) or (front == 2*later + 2):\n",
    "                print('LCA:',root[later])\n",
    "                stop = 1\n",
    "            else:\n",
    "                front = later\n",
    "                later = temp\n",
    "            \n",
    "\n"
   ]
  },
  {
   "cell_type": "code",
   "execution_count": null,
   "metadata": {},
   "outputs": [],
   "source": [
    "listA = [3,5,1,6,2,0,8,None,None,7,4]\n",
    "tree(listA, 2, 8)"
   ]
  }
 ],
 "metadata": {
  "kernelspec": {
   "display_name": "Python 3",
   "language": "python",
   "name": "python3"
  },
  "language_info": {
   "codemirror_mode": {
    "name": "ipython",
    "version": 3
   },
   "file_extension": ".py",
   "mimetype": "text/x-python",
   "name": "python",
   "nbconvert_exporter": "python",
   "pygments_lexer": "ipython3",
   "version": "3.7.3"
  }
 },
 "nbformat": 4,
 "nbformat_minor": 2
}
