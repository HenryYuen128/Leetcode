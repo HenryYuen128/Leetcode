{
 "cells": [
  {
   "cell_type": "code",
   "execution_count": 131,
   "metadata": {},
   "outputs": [],
   "source": [
    "'''\n",
    "小A 和 小B 在玩猜数字。小B 每次从 1, 2, 3 中随机选择一个，小A 每次也从 1, 2, 3 中选择一个猜。他们一共进行三次这个游戏，请返回 小A 猜对了几次？\n",
    "输入的guess数组为 小A 每次的猜测，answer数组为 小B 每次的选择。guess和answer的长度都等于3。\n",
    "示例 1：\n",
    "\n",
    "输入：guess = [1,2,3], answer = [1,2,3]\n",
    "输出：3\n",
    "解释：小A 每次都猜对了。\n",
    " \n",
    "示例 2：\n",
    "输入：guess = [2,2,3], answer = [3,2,1]\n",
    "输出：1\n",
    "解释：小A 只猜对了第二次。\n",
    "'''\n",
    "\n",
    "def game(guess, answer) -> int:\n",
    "    count = 0\n",
    "    for ii in range (len(guess)):\n",
    "        if guess[ii] == answer[ii]:\n",
    "            count += 1\n",
    "    return count"
   ]
  },
  {
   "cell_type": "code",
   "execution_count": 144,
   "metadata": {},
   "outputs": [],
   "source": [
    "'''\n",
    "给定字符串J 代表石头中宝石的类型，和字符串 S代表你拥有的石头。 S 中每个字符代表了一种你拥有的石头的类型，你想知道你拥有的石头中有多少是宝石。\n",
    "\n",
    "J 中的字母不重复，J 和 S中的所有字符都是字母。字母区分大小写，因此\"a\"和\"A\"是不同类型的石头。\n",
    "\n",
    "'''\n",
    "def numJewelsInStones(J: str, S: str) -> int:\n",
    "        counts = collections.Counter(S)\n",
    "        print(dict(counts))\n",
    "        num = 0\n",
    "        for ii in J:\n",
    "            print(counts.get(ii))\n",
    "            num += counts.get(ii)\n",
    "        return num \n",
    "    \n",
    "def numJewelsInStones1(J: str, S: str) -> int:\n",
    "    print([S.count(i) for i in J])\n",
    "    return sum([S.count(i) for i in J])"
   ]
  },
  {
   "cell_type": "code",
   "execution_count": 145,
   "metadata": {},
   "outputs": [
    {
     "name": "stdout",
     "output_type": "stream",
     "text": [
      "{'a': 1, 'A': 5, 'b': 3, 'c': 2}\n",
      "1\n",
      "5\n"
     ]
    },
    {
     "data": {
      "text/plain": [
       "6"
      ]
     },
     "execution_count": 145,
     "metadata": {},
     "output_type": "execute_result"
    }
   ],
   "source": [
    "numJewelsInStones('aA', 'aAAAAbbbccA')"
   ]
  },
  {
   "cell_type": "code",
   "execution_count": 147,
   "metadata": {},
   "outputs": [],
   "source": [
    "def numJewelsInStones1(J: str, S: str) -> int:\n",
    "#     print([S.count(i) for i in J])\n",
    "    # count统计S中i出现的次数，转为list\n",
    "    return sum([S.count(i) for i in J])"
   ]
  },
  {
   "cell_type": "code",
   "execution_count": 148,
   "metadata": {},
   "outputs": [
    {
     "name": "stdout",
     "output_type": "stream",
     "text": [
      "[1, 5]\n"
     ]
    },
    {
     "data": {
      "text/plain": [
       "6"
      ]
     },
     "execution_count": 148,
     "metadata": {},
     "output_type": "execute_result"
    }
   ],
   "source": [
    "numJewelsInStones1('aA', 'aAAAAbbbccA')"
   ]
  },
  {
   "cell_type": "code",
   "execution_count": null,
   "metadata": {},
   "outputs": [],
   "source": []
  },
  {
   "cell_type": "code",
   "execution_count": 149,
   "metadata": {},
   "outputs": [],
   "source": [
    "'''\n",
    "给你一个有效的 IPv4 地址 address，返回这个 IP 地址的无效化版本。\n",
    "所谓无效化 IP 地址，其实就是用 \"[.]\" 代替了每个 \".\"。\n",
    "示例 1：\n",
    "输入：address = \"1.1.1.1\"\n",
    "输出：\"1[.]1[.]1[.]1\"\n",
    "示例 2：\n",
    "输入：address = \"255.100.50.0\"\n",
    "输出：\"255[.]100[.]50[.]0\"\n",
    "'''\n",
    "\n",
    "class Solution:\n",
    "    def defangIPaddr(self, address: str) -> str:\n",
    "        newAddress = address.replace('.','[.]') # str.replace(被替换str,用于替换的str)\n",
    "        return newAddress\n",
    "\n"
   ]
  },
  {
   "cell_type": "code",
   "execution_count": null,
   "metadata": {},
   "outputs": [],
   "source": []
  },
  {
   "cell_type": "code",
   "execution_count": null,
   "metadata": {},
   "outputs": [],
   "source": [
    "'''\n",
    "请编写一个函数，使其可以删除某个链表中给定的（非末尾）节点，你将只被给定要求被删除的节点。\n",
    "\n",
    "示例 1:\n",
    "\n",
    "输入: head = [4,5,1,9], node = 5\n",
    "输出: [4,1,9]\n",
    "解释: 给定你链表中值为5的第二个节点，那么在调用了你的函数之后，该链表应变为 4 -> 1 -> 9.\n",
    "示例 2:\n",
    "\n",
    "输入: head = [4,5,1,9], node = 1\n",
    "输出: [4,5,9]\n",
    "解释: 给定你链表中值为1的第三个节点，那么在调用了你的函数之后，该链表应变为 4 -> 5 -> 9.\n",
    "'''\n",
    "# Definition for singly-linked list.\n",
    "# class ListNode:\n",
    "#     def __init__(self, x):\n",
    "#         self.val = x\n",
    "#         self.next = None\n",
    "\n",
    "# 思路：将要删除节点(A)的下个节点(B)的值赋给A，A指向A.next.next\n",
    "class Solution:\n",
    "    def deleteNode(self, node):\n",
    "        \"\"\"\n",
    "        :type node: ListNode\n",
    "        :rtype: void Do not return anything, modify node in-place instead.\n",
    "        \"\"\"\n",
    "        node.val = node.next.val\n",
    "        node.next = node.next.next"
   ]
  }
 ],
 "metadata": {
  "kernelspec": {
   "display_name": "Python 3",
   "language": "python",
   "name": "python3"
  },
  "language_info": {
   "codemirror_mode": {
    "name": "ipython",
    "version": 3
   },
   "file_extension": ".py",
   "mimetype": "text/x-python",
   "name": "python",
   "nbconvert_exporter": "python",
   "pygments_lexer": "ipython3",
   "version": "3.7.3"
  }
 },
 "nbformat": 4,
 "nbformat_minor": 2
}
